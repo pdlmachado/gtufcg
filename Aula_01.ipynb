{
  "nbformat": 4,
  "nbformat_minor": 0,
  "metadata": {
    "colab": {
      "provenance": [],
      "collapsed_sections": [
        "wS2lxrw7CqqH"
      ],
      "include_colab_link": true
    },
    "kernelspec": {
      "name": "python3",
      "display_name": "Python 3"
    },
    "language_info": {
      "name": "python"
    }
  },
  "cells": [
    {
      "cell_type": "markdown",
      "metadata": {
        "id": "view-in-github",
        "colab_type": "text"
      },
      "source": [
        "<a href=\"https://colab.research.google.com/github/pdlmachado/gtufcg/blob/main/Aula_01.ipynb\" target=\"_parent\"><img src=\"https://colab.research.google.com/assets/colab-badge.svg\" alt=\"Open In Colab\"/></a>"
      ]
    },
    {
      "cell_type": "markdown",
      "source": [
        "# Introdução, Motivação e Conceitos Básicos\n",
        "\n",
        "**Notas de Aula de Teoria dos Grafos**\n",
        "\n",
        "Profa.: Patrícia D. L. Machado\n",
        "\n",
        "UFCG – Unidade Acadêmica de Sistemas e Computação\n"
      ],
      "metadata": {
        "id": "aLOgv5AjdhLa"
      }
    },
    {
      "cell_type": "markdown",
      "source": [
        "**ATENÇÃO:** No menu principal, clique em `Ambiente de Execução` -> `Executar tudo` para carregar as imagens utilizadas neste notebook."
      ],
      "metadata": {
        "id": "PBeFIe7P6iZX"
      }
    },
    {
      "cell_type": "markdown",
      "source": [
        "# Instalação"
      ],
      "metadata": {
        "id": "wS2lxrw7CqqH"
      }
    },
    {
      "cell_type": "code",
      "source": [
        "import networkx as nx\n",
        "import matplotlib.pyplot as plt\n",
        "!wget https://raw.githubusercontent.com/pdlmachado/gtufcg/main/util/networkx_util.py\n",
        "from networkx_util import draw_graph, read_multiple_CSV\n",
        "from PIL import Image\n",
        "import graphviz\n",
        "!wget https://raw.githubusercontent.com/pdlmachado/gtufcg/main/datasets/amigos.csv\n",
        "!wget https://raw.githubusercontent.com/pdlmachado/gtufcg/main/datasets/nomes.csv\n",
        "!wget https://raw.githubusercontent.com/melaniewalsh/sample-social-network-datasets/master/sample-datasets/game-of-thrones/got-network.graphml\n",
        "!wget https://raw.githubusercontent.com/melaniewalsh/sample-social-network-datasets/master/sample-datasets/marvel/marvel-network.graphml\n",
        "\n"
      ],
      "metadata": {
        "id": "Mle5NTAmowHS",
        "colab": {
          "base_uri": "https://localhost:8080/"
        },
        "outputId": "0f20cf21-da30-45bd-894e-cea6bef185fd"
      },
      "execution_count": null,
      "outputs": [
        {
          "output_type": "stream",
          "name": "stdout",
          "text": [
            "--2023-06-28 18:32:14--  https://raw.githubusercontent.com/pdlmachado/gtufcg/main/util/networkx_util.py\n",
            "Resolving raw.githubusercontent.com (raw.githubusercontent.com)... 185.199.108.133, 185.199.109.133, 185.199.110.133, ...\n",
            "Connecting to raw.githubusercontent.com (raw.githubusercontent.com)|185.199.108.133|:443... connected.\n",
            "HTTP request sent, awaiting response... 200 OK\n",
            "Length: 11670 (11K) [text/plain]\n",
            "Saving to: ‘networkx_util.py.5’\n",
            "\n",
            "\rnetworkx_util.py.5    0%[                    ]       0  --.-KB/s               \rnetworkx_util.py.5  100%[===================>]  11.40K  --.-KB/s    in 0s      \n",
            "\n",
            "2023-06-28 18:32:15 (74.8 MB/s) - ‘networkx_util.py.5’ saved [11670/11670]\n",
            "\n",
            "--2023-06-28 18:32:15--  https://raw.githubusercontent.com/pdlmachado/gtufcg/main/datasets/amigos.csv\n",
            "Resolving raw.githubusercontent.com (raw.githubusercontent.com)... 185.199.108.133, 185.199.109.133, 185.199.110.133, ...\n",
            "Connecting to raw.githubusercontent.com (raw.githubusercontent.com)|185.199.108.133|:443... connected.\n",
            "HTTP request sent, awaiting response... 200 OK\n",
            "Length: 122 [text/plain]\n",
            "Saving to: ‘amigos.csv.3’\n",
            "\n",
            "amigos.csv.3        100%[===================>]     122  --.-KB/s    in 0s      \n",
            "\n",
            "2023-06-28 18:32:15 (6.94 MB/s) - ‘amigos.csv.3’ saved [122/122]\n",
            "\n",
            "--2023-06-28 18:32:15--  https://raw.githubusercontent.com/pdlmachado/gtufcg/main/datasets/nomes.csv\n",
            "Resolving raw.githubusercontent.com (raw.githubusercontent.com)... 185.199.108.133, 185.199.109.133, 185.199.110.133, ...\n",
            "Connecting to raw.githubusercontent.com (raw.githubusercontent.com)|185.199.108.133|:443... connected.\n",
            "HTTP request sent, awaiting response... 200 OK\n",
            "Length: 93 [text/plain]\n",
            "Saving to: ‘nomes.csv.3’\n",
            "\n",
            "nomes.csv.3         100%[===================>]      93  --.-KB/s    in 0s      \n",
            "\n",
            "2023-06-28 18:32:15 (1.12 MB/s) - ‘nomes.csv.3’ saved [93/93]\n",
            "\n",
            "--2023-06-28 18:32:15--  https://raw.githubusercontent.com/melaniewalsh/sample-social-network-datasets/master/sample-datasets/game-of-thrones/got-network.graphml\n",
            "Resolving raw.githubusercontent.com (raw.githubusercontent.com)... 185.199.108.133, 185.199.109.133, 185.199.110.133, ...\n",
            "Connecting to raw.githubusercontent.com (raw.githubusercontent.com)|185.199.108.133|:443... connected.\n",
            "HTTP request sent, awaiting response... 200 OK\n",
            "Length: 36713 (36K) [text/plain]\n",
            "Saving to: ‘got-network.graphml.2’\n",
            "\n",
            "got-network.graphml 100%[===================>]  35.85K  --.-KB/s    in 0.004s  \n",
            "\n",
            "2023-06-28 18:32:15 (8.49 MB/s) - ‘got-network.graphml.2’ saved [36713/36713]\n",
            "\n",
            "--2023-06-28 18:32:15--  https://raw.githubusercontent.com/melaniewalsh/sample-social-network-datasets/master/sample-datasets/marvel/marvel-network.graphml\n",
            "Resolving raw.githubusercontent.com (raw.githubusercontent.com)... 185.199.108.133, 185.199.109.133, 185.199.110.133, ...\n",
            "Connecting to raw.githubusercontent.com (raw.githubusercontent.com)|185.199.108.133|:443... connected.\n",
            "HTTP request sent, awaiting response... 200 OK\n",
            "Length: 1158483 (1.1M) [text/plain]\n",
            "Saving to: ‘marvel-network.graphml’\n",
            "\n",
            "marvel-network.grap 100%[===================>]   1.10M  --.-KB/s    in 0.06s   \n",
            "\n",
            "2023-06-28 18:32:15 (17.8 MB/s) - ‘marvel-network.graphml’ saved [1158483/1158483]\n",
            "\n"
          ]
        }
      ]
    },
    {
      "cell_type": "markdown",
      "source": [
        "# Introdução"
      ],
      "metadata": {
        "id": "NOAoAZAWAB_P"
      }
    },
    {
      "cell_type": "markdown",
      "source": [
        "Muitas situações no mundo real podem ser descritas por meio de um diagrama formado por pontos e linhas. O objetivo é observar se dois ou mais pontos estão conectados e o padrão desta conexão. Por exemplo, as redes sociais podem representar indivíduos e suas relações através de um diagrama deste tipo ([Figura 1](#fig1)). Neste caso, indivíduos, representados por pontos, estão ligados a fim de estabelecer uma relação de amizade, representada por uma linha. Ao analisar este diagrama, por exemplo, podemos observar padrões de relacionamento em um grupo, bem como identificar oportunidades para disseminação de informações, considerando os caminhos existentes entre indivíduos que podem ou não estar ligados diretamente.\n",
        "\n",
        "\n",
        "\n"
      ],
      "metadata": {
        "id": "7uZffifwXsQ_"
      }
    },
    {
      "cell_type": "code",
      "source": [
        "#@title\n",
        "#@markdown <a name=\"fig1\">Figura 1</a>: Ilustração gráfica de uma rede social.\n",
        "SN = nx.florentine_families_graph()\n",
        "draw_graph(SN, layoutid='kamada_kawai_layout', node_color=\"white\")"
      ],
      "metadata": {
        "colab": {
          "base_uri": "https://localhost:8080/",
          "height": 422
        },
        "id": "p97_fHj5FBY5",
        "outputId": "96c995fb-9a30-46de-e1f6-0eafb2ad1ee9",
        "cellView": "form"
      },
      "execution_count": null,
      "outputs": [
        {
          "output_type": "display_data",
          "data": {
            "text/plain": [
              "<Figure size 800x500 with 1 Axes>"
            ],
            "image/png": "[encoded data removed]"
          },
          "metadata": {}
        }
      ]
    },
    {
      "cell_type": "markdown",
      "source": [
        "Grafos são utilizados na prática para modelar diversos conceitos presentes em nossas vidas. A web, por exemplo, é um grafo virtual gigantesco onde cada página é um vértice e as arestas são links que levam de uma página para outra. Aplicações com GPS fazem uso de grafos para representar pontos de interesse e calcular rotas de um ponto a outro ponto.\n",
        "\n",
        "Hoje em dia, praticamente toda e qualquer rede de informações e conhecimento humano é representada através de grafos. Algoritmos sobre grafos são aplicados a fim de encontrar soluções para os diferentes problemas em diferentes representações. Neste sentido, o estudo da Teoria dos Grafos nos ajuda a conhecer melhor esta poderosa ferramenta, incluindo modelos, propriedades e algoritmos diversos que podem ser aplicados para resolver problemas práticos, não só em Ciência da Computação. O estudo de grafos vai muito além de conceitos básicos de programação deste conceito (alvo das disciplinas de programação e estrutura de dados), mas se remete, principalmente, a representação e solução de problemas. Este é o objetivo central desta disciplina."
      ],
      "metadata": {
        "id": "Y9jNDDHIgeIW"
      }
    },
    {
      "cell_type": "markdown",
      "source": [
        "# Problemas Clássicos\n",
        "\n",
        "As 7 pontes de _Konigsberg_ ligam as ilhas A e B e as margens C e D ([Figura 2](#fig2)).  **Existe uma trilha que passe por cada uma das pontes apenas uma vez**? Este problema pode ser representado através de um grafo onde os vértices representam as porções de terra e as arestas representam as pontes. Como vamos aprender em aulas posteriores, não existe esta trilha."
      ],
      "metadata": {
        "id": "UltPxcIBghe1"
      }
    },
    {
      "cell_type": "markdown",
      "source": [
        "<a name=\"fig2\">Figura 2</a>: Pontes de Konigsberg.\n",
        "\n",
        "![picture](https://drive.google.com/uc?export=view&id=1rtFig_IXBjWpqeYQrB_b0HPgRMFRPv76)\n",
        "\n"
      ],
      "metadata": {
        "id": "uLLhlxEDQV-4"
      }
    },
    {
      "cell_type": "markdown",
      "source": [
        "\n",
        "Um outro problema clássico que pode ser representando através de grafos é o problema das 4 cores. **Quantas cores são necessárias para colorir um mapa de forma que regiões vizinhas possuam cores diferentes**?\n",
        "\n",
        "É sempre possível colorir qualquer figura planar com apenas 4 cores ([Figura 3](#fig3)). Podemos representar problemas semelhantes através da coloração de vértices onde vértices ligados diretamente não podem receber a mesma cor.\n",
        "\n",
        "<a name=\"fig3\">Figura 3</a>: Coloração de mapas planares.\n",
        "\n",
        "![picture](https://drive.google.com/uc?export=view&id=1PboyPo2WFgYjiIB0kJTCBItOQK2U9e05)\n",
        "\n",
        "\n",
        "\n"
      ],
      "metadata": {
        "id": "vMfOAUz_Auhb"
      }
    },
    {
      "cell_type": "markdown",
      "source": [
        "# Problemas Comuns na Engenharia de Software\n",
        "\n",
        "Grafos são utilizados para modelar programas a fim de tornar possível realizar diferentes análises sobre os mesmos tal como a cobertura de testes. Neste caso, programas são usualmente representados através de Grafos de Fluxo de Controle. Na\n",
        "\n",
        "Na [Figura 4](#fig4), o trecho de código é representado por um grafo onde os vértices representam as linhas de código que são ligadas através de arcos os quais representam o direcionamento do fluxo de execução.\n",
        "\n",
        "<a name=\"fig4\">Figura 4</a>: Grafo de fluxo de controle.\n",
        "\n",
        "![picture](https://drive.google.com/uc?export=view&id=1bSMTRLv5MkmS8aDFIFQwtdXqarI8iuZn)\n",
        "\n",
        "\n",
        "Como uma meta de avaliação da qualidade de uma suite de testes, espera-se que casos de teste percorram de forma sistemática os diferentes caminhos e elementos do grafo a fim de garantir que as linhas de código foram efetivamente testadas.\n",
        "\n",
        "A partir da análise do grafo de fluxo de controle, podemos investigar os seguintes problemas:\n",
        "\n",
        "- **Existencial** : Existe um conjunto finito de casos de teste que executa todos os comandos de um programa pelo menos uma vez?\n",
        "- **Construção** : Como construir este conjunto?\n",
        "- **Enumeração** : Quantos conjuntos existem? Podem ser listados? São finitos?\n",
        "- **Otimização** : Qual o menor conjunto?\n",
        "\n"
      ],
      "metadata": {
        "id": "g4--kWUVF0EL"
      }
    },
    {
      "cell_type": "markdown",
      "source": [
        "Outro problema importante que pode ser tratado através do uso de grafos é o problema da modificação de um software.  **Que classes devem ser testadas após a realização de uma modificação** ?\n",
        "\n",
        "Para tal precisamos identificar que partes do software são afetadas pela modificação. Isto pode ser feito observando a relação de dependência entre as classes. Uma classe _A_ é dependente de uma classe _B_ se _A_ usa _B_. Isto pode ocorrer, por exemplo, quando _A_ possui um objeto da classe _B_ como parâmetro em um ou mais métodos ou _A_ possui uma variável local da classe _B_.\n",
        "\n",
        "Através da análise do **Grafo de Dependências** podemos investigar os custos e o impacto de modificações em um software. Como exemplo, considere o grafo de dependência de classes apresentado na [Figura 5](#fig5), onde os arcos representam a relação de dependência entre duas classes. Neste exemplo, observamos que todas as classes são dependentes da classe **Card**. Em particular, a classe **Address** é dependente de **Card** através de **Ship.** Assim, modificações em **Card** devem ser validadas através do teste de todas as classes. O mesmo não acontece com a classe **View** : modificações nesta classe requerem teste apenas nela. Observe também que **Card** , **Ship** e **Address** possuem uma relação de _dependência circular_. Portanto, alterações nestas classes podem levar a ciclos repetitivos de correções.\n",
        "\n",
        "<a name=\"fig5\">Figura 5</a>: Grafo de Dependência de Classes\n",
        "\n",
        "![picture](https://drive.google.com/uc?export=view&id=1NjLwQ93BDAYTAuPK71nwCZv3tK0bI9Fm)\n",
        "\n",
        "\n",
        "\n",
        "\n",
        "\n",
        "\n"
      ],
      "metadata": {
        "id": "MUhv3FB8hKJr"
      }
    },
    {
      "cell_type": "markdown",
      "source": [
        "Grafos também podem ser utilizados para representar situações onde queremos identificar grupos de elementos fortemente relacionados. Por exemplo, podemos usar um grafo de dependência de classes para particionar o esforço de evolução de um software entre diferentes equipes, minimizando a necessidade de interação entre estas equipes. Cada equipe recebe um grupo de classes que possuem forte dependência entre si, mas pouca dependência direta com as demais como podemos observar na [Figura 6](#fig6).\n",
        "\n",
        "<a name=\"fig6\">Figura 6</a>: Grupos de classes relacionadas por dependência.\n",
        "\n",
        "![picture](https://drive.google.com/uc?export=view&id=1RFMly37OTiGqMbdByF9pn7nyRARTJCrn)\n",
        "\n"
      ],
      "metadata": {
        "id": "6dgOQ1puiRkL"
      }
    },
    {
      "cell_type": "markdown",
      "source": [
        "# Histórico\n",
        "\n",
        "Não é possível determinar exatamente quando estudos e usos de grafos tiveram início uma vez que se trata de um conceito intuitivo que pode ter sido usado desde épocas remotas da civilização. Abaixo listamos alguns pontos e fatos marcantes na evolução de conceitos e formalização do que conhecemos hoje como Teoria dos Grafos.\n",
        "\n",
        "- Konigsberg (Euler 1735)\n",
        "- Grafo Hamiltoniano (Hamilton 1805-65)\n",
        "- Conceito de Árvore (Kirchhoff 1824-87)\n",
        "- Grafos Planares (Mobius/Kuratowski/Dudeney 1840/1913)\n",
        "- Conjectura das 4-cores (1852)\n",
        "- Busca por algoritmos eficientes\n",
        "- Larga aplicabilidade: Matemática, Computação, Comunicação e Otimização Combinatória\n",
        "- Soluções para algoritmos intratáveis"
      ],
      "metadata": {
        "id": "1uJlPSNRodo5"
      }
    },
    {
      "cell_type": "markdown",
      "source": [
        "# Exemplos de Modelagem de Problemas Usando Grafos\n",
        "\n",
        "## Rotas de Transporte\n",
        "\n",
        "\n",
        "\n",
        "\n",
        "Os governos estaduais cobram impostos para a entrada de mercadorias vindas de outros estados. Para minimizar os custos de transportes, é importante escolher rotas de transporte de um estado a outro que atravesse o menor número possível de estados. Como podemos resolver este problema usando grafos? Construímos um grafo onde os estados são vértices e as arestas representam a existência de fronteira entre 2 estados ([Figura 7](#fig7)).\n",
        "\n",
        "Para encontrar a melhor rota, calculamos o menor caminho no grafo entre dois vértices.\n",
        "\n",
        "<a name=\"fig7\">Figura 7</a>: Mapa do Nordeste e Grafo que modela vizinhança entre os estados.\n",
        "\n",
        "| ![picture](https://drive.google.com/uc?export=view&id=1jYZLeeApBp60E2SgBCJVmMenhAWpw6up) | ![picture](https://drive.google.com/uc?export=view&id=1mkJVcLramMdXX10id4uhTKaVNWpHWWTz) |\n",
        "\n",
        "\n",
        "## Guarani's Puzzle\n",
        "\n",
        "Existem 4 cavalos em um tabuleiro de xadrez 3x3: dois brancos nos cantos inferiores e dois pretos nos cantos superiores ([Figura 8](#fig8). Qual é o número mínimo de movimentos necessários para que os cavalos brancos ocupem as posições dos cavalos pretos e vice-versa?\n",
        "\n",
        "<a name=\"fig8\">Figura 8</a>: Tabuleiro 3x3.\n",
        "\n",
        "![picture](https://drive.google.com/uc?export=view&id=15ZBT3E9vkQUtAmvODwxpS29FrJP83gyd)\n",
        "\n",
        "Criamos um grafo onde cada célula do tabuleiro é representada por um vértice e adicionamos uma aresta entre dois vértices se o cavalo pode se mover entre as células correspondentes. Representando graficamente este mesmo grafo de outra forma, observamos que é na verdade um círculo. Na representação abaixo, os vértices de cor preta representam as células onde os cavalos pretos se encontram, enquanto os vértices com de cor branca representam as células onde os cavalos brancos se encontram.\n",
        "\n",
        "![picture](https://drive.google.com/uc?export=view&id=1ISw7kOmXaJl6JrsKWaOnQ7X8I4h_2050) | ![picture](https://drive.google.com/uc?export=view&id=1p_vaDJbDewSCZotxBso1usMbsVzaUhSY)\n",
        "\n",
        "Através deste grafo, descobrimos que mover os cavalos brancos para as células dos cavalos pretos e vice-versa consiste em deslocarmos os mesmos no grafo seguindo a ordem circular, um de cada vez. Ou seja, determinar o número mínimo de movimentos no tabuleiro resume-se a contar o número mínimo de deslocamentos dos cavalos no círculo, considerando que apenas um cavalo se move por vez."
      ],
      "metadata": {
        "id": "6SfFydDhpDi_"
      }
    },
    {
      "cell_type": "markdown",
      "source": [
        "# Grafo Não-Direcionado\n",
        "\n",
        "**Definição 01**. Um grafo é um par ordenado $(V(G),E(G))$, onde:\n",
        "\n",
        "- $V(G)$ é um conjunto de **vértices** ;\n",
        "- $E(G)$ é um conjunto de **arestas** , juntamente com uma **função de incidência** $\\psi$.\n",
        "  - Se $e$ é uma aresta e $u$ e $v$ são vértices, $\\psi(e) = \\{u,v\\} = uv = vu$\n",
        "  - $u$ e $v$ são **adjacentes** ou vizinhos e $e$ é **incidente** a $u$  e $v$\n",
        "  - $u$ e $v$ são os **terminais** de $e$\n",
        "\n",
        "Observe que podemos representar o resultado da função de incidência usando a notação de conjunto de vértices ou a concatenação dos nomes dos vértices em qualquer ordem: $uv$ ou $vu$.  Como este relacionamento não possui ordem, os nomes dos vértices podem aparecer em qualquer ordem. Por este motivo, G é denominado de **grafo não-direcionado** (*undirected graph*)\n",
        "\n",
        "Por exemplo, considere o grafo $G_1$ abaixo com seu conjunto de vértices, arestas e função de incidência. A aresta `s`, segundo a função de incidência, relaciona os vértices `a` e `b`, indicando que são adjacentes através da mesma.\n",
        "\n",
        "$G_1 = (V(G_1),E(G_1))$, onde:\n",
        "\n",
        "$V(G_1)$ = {`a`,`b`,`c`,`d`,`e`}  \n",
        "$E(G_1)$ = {`s`,`t`,`u`,`v`,`w`,`x`,`y`,`z`}  \n",
        "$\\psi_{G_1}$(`s`)=`ab`  \n",
        "$\\psi_{G_1}$(`t`)=`aa`   \n",
        "$\\psi_{G_1}$(`u`)=`bc`\n",
        "$\\psi_{G_1}$(`v`)=`cd`  \n",
        "$\\psi_{G_1}$(`x`)=`bd`\n",
        "$\\psi_{G_1}$(`w`)=`cd`\n",
        "$\\psi_{G_1}$(`y`)=`ad`  \n",
        "$\\psi_{G_1}$(`z`)=`de`\n",
        "\n",
        "\n",
        "O número de vértices e arestas de um grafo $G$ é dado por $v(G)$ e $e(G)$ respectivamente ( **ordem** e **tamanho** de $G$). Em nosso exemplo, a ordem de $G_1$ é 5 e o tamanho de $G_1$ é 8.\n",
        "\n",
        "Grafos podem ser representados por diagramas ou gráficos onde vértices são representados por pontos e arestas são representadas por linhas. No entanto, o diagrama serve unicamente para visualização humana, quando possível. Grafos reais podem ser imensos e, desta forma, é difícil ou impossível representá-los em uma forma gráfica detalhada. A fim de serem processados de forma automática, grafos precisam ser definidos usando uma notação formal, tal como a apresentada na Definição 01, ou uma estrutura de dados em uma linguagem de programação.\n",
        "\n",
        "A partir de uma definição formal, diferentes representações gráficas podem ser construídas. A forma de representar graficamente é escolhida com base no tipo de informação que queremos destacar.\n",
        "\n",
        "Abaixo, temos uma representação gráfica do grafo apresentado como exemplo. Utilizaremos este grafo para ilustrar demais conceitos apresentados nesta aula.\n",
        "\n"
      ],
      "metadata": {
        "id": "Gt-9S8yDqmS5"
      }
    },
    {
      "cell_type": "code",
      "source": [
        "#@title\n",
        "G1 = graphviz.Graph('G1', filename=\"G1\", format='png')\n",
        "G1.attr(rankdir='LR', size='8,5')\n",
        "G1.attr('node', shape='doublecircle')\n",
        "G1.node('a')\n",
        "G1.node('b')\n",
        "G1.node('c')\n",
        "G1.node('d')\n",
        "G1.node('e')\n",
        "G1.edge('a','b',label='s')\n",
        "G1.edge('a','a',label='t')\n",
        "G1.edge('b','c',label='u')\n",
        "G1.edge('c','d',label='v')\n",
        "G1.edge('b','d',label='x')\n",
        "G1.edge('c','d',label='w')\n",
        "G1.edge('a','d',label='y')\n",
        "G1.edge('d','e',label='z')\n",
        "G1.view()\n",
        "im = Image.open('G1.png')\n",
        "im.show()"
      ],
      "metadata": {
        "cellView": "form",
        "id": "dKwuQJtA5XeA"
      },
      "execution_count": null,
      "outputs": []
    },
    {
      "cell_type": "markdown",
      "source": [
        "Como outro exemplo, considere novamente o problema de representar as diferentes formas de viajar de um estado para outro na região nordeste atravessando um ou mais estados. Podemos definir um grafo onde os vértices são os estados e as arestas indicam quando 2 estados são vizinhos. Desta forma, podemos investigar, por exemplo, como viajar de uma cidade para outra cruzando o menor número possível de estados.\n",
        "Abaixo apresentamos um grafo F que modela este problema. Note que F possui 14 arestas representado a existência de 14 vizinhanças diferentes. As vizinhanças são descritas através da função de incidência.\n",
        "\n",
        "$F = (V(F),E(F))$, onde\n",
        "$V(F)$ = {`MA`,`PI`,`CE`,`RN`,`PB`,`PE`,`AL`,`SE`,`BA`} e\n",
        "$E(F)$ = {`0`,`1`,`2`,`3`,`4`,`5`,`6`,`7`,`8`,`9`,`10`,`11`,`12`,`13`}\n",
        "\n",
        "$\\psi_F$(`0`)= {`MA`,`PI`}  \n",
        "$\\psi_F$(`1`) = {`PI`,`CE`}  \n",
        "$\\psi_F$(`2`) = {`PI`,`PE`}  \n",
        "$\\psi_F$(`3`) = {`PI`,`BA`}   \n",
        "$\\psi_F$(`4`) = {`CE`,`PE`}  \n",
        "$\\psi_F$(`5`) = {`CE`,`PB`}  \n",
        "$\\psi_F$(`6`) = {`CE`,`RN`}\n",
        "$\\psi_F$(`7`) = {`PE`,`PB`}  \n",
        "$\\psi_F$(`8`) = {`RN`,`PB`}\n",
        "$\\psi_F$(`9`) = {`PE`,`BA`}  \n",
        "$\\psi_F$(`10`) = {`PE`,`AL`}  \n",
        "$\\psi_F$(`11`) = {`BA`,`AL`}   \n",
        "$\\psi_F$(`12`) = {`BA`,`SE`}  \n",
        "$\\psi_F$(`13`) = {`AL`,`SE`}  \n",
        "\n",
        "Abaixo, temos duas visualizações gráficas diferentes para o grafo $F$.\n",
        "Caso não esteja visualizando, siga a orientação apresentada no início deste notebook.\n",
        "\n",
        "A primeira visualização mostra de forma mais clara os estados que possuem uma posição mais ou menos central com relação aos demais. Por exemplo, é possível perceber através desta visualização que `PE` é o estado que possui mais vizinhos enquanto `MA` é o estado que possui menos vizinhos. Isto pode ser visto através da contagem do número de vezes em que `PE` e `MA` são terminais de uma aresta. A representação possibilita que esta informação seja compreendida de forma mais imediata. Outro fato importante que podemos observar neste grafo é que todo caminho para o `MA` passa obrigatoriamente por `PI`. Assim o `PI` é um estado de grande influência na região.\n"
      ],
      "metadata": {
        "id": "p_3r7Nek5nAs"
      }
    },
    {
      "cell_type": "code",
      "source": [
        "#@title\n",
        "F = nx.Graph([('MA','PI'),('PI','CE'),('PI','PE'),('PI','BA'),('CE','PE'),\n",
        "              ('CE','PB'),('CE','RN'),('PE','PB'),('RN','PB'),('PE','BA'),\n",
        "              ('PE','AL'),('BA','AL'),('BA','SE',),('AL','SE')])\n",
        "edge_labels = {k:l_edges.index(k) for l_edges in [list(F.edges)] for k in l_edges}\n",
        "draw_graph(F,layoutid='kamada_kawai_layout', edge_labels=edge_labels)\n",
        "draw_graph(F,layoutid='circular_layout', edge_labels=edge_labels)\n"
      ],
      "metadata": {
        "cellView": "form",
        "id": "lgEudjJ_8clx"
      },
      "execution_count": null,
      "outputs": []
    },
    {
      "cell_type": "markdown",
      "source": [
        "Em aulas posteriores, estudaremos mais sobre como analisar e obter informações importantes em grafos e suas visualizações.\n",
        "\n",
        "A seguir, apresentamos alguns conceitos básicos de grafos. Para exemplificar estes conceitos, utilizamos o grafo $G_1$ definido anteriormente.\n",
        "O conjunto de **vizinhos** de um vértice $v$  em um grafo $G$  é definido por $N_G(v)$. Em $G_1$, o conjunto de vizinhos de `d` é {`e`,`a`,`c`,`b`} e o conjunto de vizinhos de `a`  é  {`a`,`b`,`d`}.\n",
        "Uma aresta com terminais:\n",
        "Idênticos é chamada de **loop**\n",
        "Distintos é chamada de **link**.\n",
        "Em , `t` é um loop e `s` é um link.\n",
        "\n",
        "Quando 2 ou mais links possuem o mesmo par de terminais estes são chamados de **arestas paralelas**. Um grafo com arestas paralelas é chamado de **multigrafo**. Alguns autores admitem que multigrafos podem conter loops. Outros denominam um grafo com loops de **pseudografo**. Pseudografos podem conter arestas paralelas. O grafo exemplo $G_1$  é um pseudografo e pode ser considerado um multigrafo por alguns autores.\n",
        "\n",
        "Um grafo é **finito** se seus conjuntos de vértices e arestas são finitos.\n",
        "O grafo sem vértices ($V(G) = \\emptyset$) é chamado de **grafo nulo**. Um grafo é **vazio** quando possui vértices, mas não possui arestas ($E(G) = \\emptyset$).\n",
        "\n",
        "Qualquer grafo com apenas um vértice é chamado de **trivial**. Todos os outros grafos são grafos não-triviais.\n",
        "\n",
        "Um grafo é **simples** se não possui loops ou arestas paralelas. Neste caso, a função de incidência pode ser ignorada porque podemos representar cada aresta por seus terminais, sem ambiguidade. Abaixo temos um exemplo de um grafo simples e sua definição formal, onde a função de incidência pode ser omitida.\n",
        "\n"
      ],
      "metadata": {
        "id": "x4qOg2IbWGVT"
      }
    },
    {
      "cell_type": "code",
      "source": [],
      "metadata": {
        "id": "kXmiFltsVOug"
      },
      "execution_count": null,
      "outputs": []
    }
  ]
}