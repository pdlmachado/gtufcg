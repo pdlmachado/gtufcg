{
  "nbformat": 4,
  "nbformat_minor": 0,
  "metadata": {
    "colab": {
      "provenance": [],
      "collapsed_sections": [
        "0jjx6Z570WdA"
      ]
    },
    "kernelspec": {
      "name": "python3",
      "display_name": "Python 3"
    },
    "language_info": {
      "name": "python"
    }
  },
  "cells": [
    {
      "cell_type": "markdown",
      "source": [
        "# Exercício Prático 03 (EP03)\n",
        "\n",
        "Este atividade em laboratório tem como enfoque a resolução de problemas através da técnica de redução.\n",
        "Faça uma cópia local deste notebook antes de iniciar a atividade.\n",
        "A entrega consiste em anexar uma versão do notebook do seu grupo na tarefa do classroom.\n",
        "\n",
        "**Observação:**\n",
        "* As células de código possuem dependências com as células anteriores de sua\n",
        "seção.\n",
        "* A célula de instalação pode demorar alguns minutos para executar devido as bibliotecas gráficas. Mas só precisa ser executada uma vez por sessão.\n"
      ],
      "metadata": {
        "id": "cROnT4MGqF6A"
      }
    },
    {
      "cell_type": "code",
      "source": [
        "# @title Instalação\n",
        "import networkx as nx\n",
        "import matplotlib.pyplot as plt\n",
        "!git clone https://github.com/pdlmachado/gtufcg.git\n",
        "from gtufcg.util.draw_util import drawgv_graph\n",
        "import unittest\n",
        "from typing import Any\n",
        "import inspect\n",
        "def is_function_invoked(caller_func, callee_func):\n",
        "    source_code = inspect.getsource(caller_func)\n",
        "    return callee_func.__name__ in source_code"
      ],
      "metadata": {
        "colab": {
          "base_uri": "https://localhost:8080/"
        },
        "id": "jo-qdIxl58JV",
        "outputId": "10d59bf3-0d4b-43ab-c748-44cf3a777964",
        "cellView": "form"
      },
      "execution_count": null,
      "outputs": [
        {
          "output_type": "stream",
          "name": "stdout",
          "text": [
            "Cloning into 'gtufcg'...\n",
            "remote: Enumerating objects: 1112, done.\u001b[K\n",
            "remote: Counting objects: 100% (515/515), done.\u001b[K\n",
            "remote: Compressing objects: 100% (272/272), done.\u001b[K\n",
            "remote: Total 1112 (delta 322), reused 372 (delta 233), pack-reused 597 (from 1)\u001b[K\n",
            "Receiving objects: 100% (1112/1112), 1.87 MiB | 4.74 MiB/s, done.\n",
            "Resolving deltas: 100% (738/738), done.\n"
          ]
        }
      ]
    },
    {
      "cell_type": "markdown",
      "source": [
        "# Questões\n",
        "\n",
        "Codifique as funções solicitadas abaixo."
      ],
      "metadata": {
        "id": "InU03RuYOLo9"
      }
    },
    {
      "cell_type": "markdown",
      "source": [
        "## (01)\n",
        "\n",
        "Sejam $A_1$ e $B_1$ os seguintes problemas:\n",
        "\n",
        "* $A_1 = \\{ \\langle m, S \\rangle \\mid m \\text{ é a mediana de } S \\text{ e } S \\text{ é um conjunto de números naturais} \\}$\n",
        "\n",
        "* $B_1 = \\{ \\langle m, L  \\rangle \\mid m \\text{ é a mediana de } L \\text{ e } L \\text{ é uma lista ordenada (ordem crescente) de números naturais} \\}$\n",
        "\n",
        "O problema $A_1$ pode ser resolvido em termos de $B_1$ da seguinte forma: podemos transformar o conjunto em uma lista ordenada e decidir se $m$ é uma mediana de $S$ caso $m$ seja uma mediana da lista ordenada obtida a partir de $S$.\n",
        "\n",
        "Por exemplo, considere $m=4$ e $S = \\{6,3,4,1,9\\}$. Criamos uma lista ordenada $[1,3,4,6,9]$ e checamos se 4 é a mediana desta lista.\n",
        "\n",
        "Implemente as funções:\n",
        "\n",
        "* `M_B1` - uma função que implementa um algoritmo para o problema $B_1$;\n",
        "\n",
        "* `f1` - uma função que computa uma entrada para `M_B1` a partir de uma entrada para `M_A1`;\n",
        "\n",
        "* `M_A1` - uma função que implementa um algoritmo para o problema $A_1$, usando `M_B1`.\n",
        "\n",
        "\n",
        "\n",
        "\n",
        "\n",
        "\n"
      ],
      "metadata": {
        "id": "rLg1Yi8CF9D0"
      }
    },
    {
      "cell_type": "code",
      "source": [
        "def M_B1 (m: int, L: list) -> bool:\n",
        "  # Escreva aqui o seu código\n",
        "  # return None\n",
        "  l = len(L)\n",
        "  mid = l//2\n",
        "  if l % 2 == 0:\n",
        "    return (L[mid]+L[mid-1])/2 == m\n",
        "  else:\n",
        "    return L[mid] == m\n",
        "\n",
        "def f1 (S : set) -> list:\n",
        "  # Escreva aqui o seu código\n",
        "  # return None\n",
        "  L = list(S)\n",
        "  return sorted(L)\n",
        "\n",
        "def M_A1 (m : int, S: set) -> bool:\n",
        "  # Escreva aqui o seu código\n",
        "  # return None\n",
        "  if M_B1(m,f1(S)):\n",
        "    return True\n",
        "  else:\n",
        "    return False\n",
        "\n",
        "# Testes Manuais\n",
        "assert M_A1(4,{6,3,4,1,9}) is True\n",
        "assert M_A1(6,{6,3,4,1,9}) is False"
      ],
      "metadata": {
        "id": "_D3CYUJPIVb1"
      },
      "execution_count": null,
      "outputs": []
    },
    {
      "cell_type": "code",
      "source": [
        "# @title Testes Automáticos\n",
        "# Testes\n",
        "class Test_Q01 (unittest.TestCase):\n",
        "\n",
        "  def test_f1 (self):\n",
        "    self.assertEqual(f1({6,3,4,1,9}),[1,3,4,6,9])\n",
        "    self.assertEqual(f1({1,2,3,4,5,6,7,8,9,10}),[1,2,3,4,5,6,7,8,9,10])\n",
        "    self.assertEqual(f1({1,3,5,7,9,2,4,6,8,10}),[1,2,3,4,5,6,7,8,9,10])\n",
        "    self.assertEqual(f1({10,9,8,7,6,5,4,3,2,1}),[1,2,3,4,5,6,7,8,9,10])\n",
        "\n",
        "\n",
        "  def test_M_B1 (self):\n",
        "    self.assertTrue(M_B1(4,[1,3,4,6,9]))\n",
        "    self.assertFalse(M_B1(6,[1,3,4,6,9]))\n",
        "\n",
        "  def test_M_A1 (self):\n",
        "    self.assertTrue(M_A1(4,{6,3,4,1,9}))\n",
        "    self.assertFalse(M_A1(6,{6,3,4,1,9}))\n",
        "    self.assertTrue(M_A1(3,{1,3,3,4}))\n",
        "    self.assertTrue(M_A1(4.5,{1,3,5,6,4,2,9,8,7,0}))\n",
        "    self.assertFalse(M_A1(4,{1,3,5,6,4,2,9,8,7,0}))\n",
        "    self.assertFalse(M_A1(5,{1,3,5,6,4,2,9,8,7,0}))\n",
        "\n",
        "  def test_M_A_F(self):\n",
        "    self.assertTrue(is_function_invoked(M_A1,M_B1))\n",
        "    self.assertTrue (is_function_invoked(M_A1,f1))\n",
        "\n",
        "unittest.main(argv=[''], defaultTest='Test_Q01', verbosity=2, exit=False)"
      ],
      "metadata": {
        "colab": {
          "base_uri": "https://localhost:8080/"
        },
        "outputId": "8615d463-a8dd-401d-9b48-497b0ad52a03",
        "id": "_4lUQJZnoAxk",
        "cellView": "form"
      },
      "execution_count": null,
      "outputs": [
        {
          "output_type": "stream",
          "name": "stderr",
          "text": [
            "test_M_A1 (__main__.Test_Q01.test_M_A1) ... ok\n",
            "test_M_A_F (__main__.Test_Q01.test_M_A_F) ... ok\n",
            "test_M_B1 (__main__.Test_Q01.test_M_B1) ... ok\n",
            "test_f1 (__main__.Test_Q01.test_f1) ... ok\n",
            "\n",
            "----------------------------------------------------------------------\n",
            "Ran 4 tests in 0.009s\n",
            "\n",
            "OK\n"
          ]
        },
        {
          "output_type": "execute_result",
          "data": {
            "text/plain": [
              "<unittest.main.TestProgram at 0x7948044d8210>"
            ]
          },
          "metadata": {},
          "execution_count": 11
        }
      ]
    },
    {
      "cell_type": "markdown",
      "source": [
        "## (02)\n",
        "\n",
        "Sejam $A_2$ e $B_2$ os seguintes problemas:\n",
        "\n",
        "* $A_2 = \\{ \\langle G \\rangle \\mid G \\text{ é um grafo simples conectado}\\}$\n",
        "\n",
        "* $B_2 = \\{ \\langle G,T \\rangle \\mid T \\text{ é uma árvore geradora de }  G \\text{ (um grafo simples)} \\}$\n",
        "\n",
        "O problema $A_2$ pode ser resolvido em termos de $B_2$ da seguinte forma: realizamos uma busca em árvore no grafo $G$. Se a árvore resultante é geradora, então $G$ é conectado.\n",
        "\n",
        "As seguintes funções devem ser implementadas:\n",
        "\n",
        "* `M_B2` - Implementa um algoritmo para o problema $B_2$.\n",
        "\n",
        "* `f2` - Transforma a entrada de `M_A2` ($G$) em uma entrada para `M_B2` ($G$,$T$), construindo $T$.\n",
        "\n",
        "* `M_A2` - Implementa um algoritmo para o problema $A_2$, usando `M_B2`.\n",
        "\n",
        "\n",
        "\n",
        "> Dica:  \n",
        "> * Em `f2`, use a função `minimum_spanning_tree` de networkx passando $G$ como parâmetro para encontrar uma árvore geradora em $G$, se existir. Caso não exista, a função retorna uma floresta.\n",
        "> * Em `M_B2`, teste se $T$ é uma árvore, usando a função `is_tree` de networkx e verifique se a árvore possui todos os vértices do grafo, comparando os conjuntos de vértices com a propriedade `nodes`."
      ],
      "metadata": {
        "id": "hNLbX5m0DOfk"
      }
    },
    {
      "cell_type": "code",
      "source": [
        "import networkx as nx\n",
        "\n",
        "def M_B2(G: nx.Graph, T: nx.Graph) -> bool:\n",
        "  # Escreva aqui o seu código\n",
        "  # return None\n",
        "  return nx.is_tree(T) and G.nodes == T.nodes\n",
        "\n",
        "def f2 (G: nx.Graph) -> nx.Graph:\n",
        "  # Escreva aqui o seu código\n",
        "  # return None\n",
        "  return nx.minimum_spanning_tree(G)\n",
        "\n",
        "def M_A2(G: nx.Graph) -> bool:\n",
        "  # Escreva aqui o seu código\n",
        "  # return None\n",
        "  if M_B2(G,f2(G)):\n",
        "    return True\n",
        "  else:\n",
        "    return False\n",
        "\n",
        "# Testes Manuais\n",
        "G1 = nx.Graph([(0, 1), (1, 2), (1, 3), (3, 0)])\n",
        "assert M_A2(G1) is True\n",
        "G2 = nx.Graph([(0, 1), (1, 2), (1, 3), (4, 5), (5, 6), (6, 4)])\n",
        "assert M_A2(G2) is False"
      ],
      "metadata": {
        "id": "T1wMxJCLEOFD"
      },
      "execution_count": null,
      "outputs": []
    },
    {
      "cell_type": "code",
      "source": [
        "# @title Testes Automáticos\n",
        "\n",
        "# Data\n",
        "G1 = nx.Graph([(0, 1), (1, 2), (1, 3)])\n",
        "G2 = nx.Graph([(0, 1), (1, 2), (1, 3), (4, 5)])\n",
        "G3 = nx.Graph([(0, 1), (1, 2), (1, 3), (2, 4), (3, 4)])\n",
        "G4 = nx.Graph([(0, 1), (1, 2), (1, 6), (2, 6), (3, 4), (4, 5)])\n",
        "\n",
        "class Test_Q02 (unittest.TestCase):\n",
        "\n",
        "  def test_f2 (self):\n",
        "    T1 = f2(G1)\n",
        "    self.assertTrue(nx.is_tree(T1) and all(n in G1.nodes for n in T1.nodes))\n",
        "    T2 = f2(G2)\n",
        "    self.assertTrue(nx.is_forest(T2) and all(n in G2.nodes for n in T2.nodes))\n",
        "    T3 = f2(G3)\n",
        "    self.assertTrue(nx.is_tree(T3) and all(n in G3.nodes for n in T3.nodes))\n",
        "    T4 = f2(G4)\n",
        "    self.assertTrue(nx.is_forest(T4) and all(n in G4.nodes for n in T4.nodes))\n",
        "\n",
        "  def test_M_B2 (self):\n",
        "    self.assertTrue(M_B2(G1,f2(G1)))\n",
        "    self.assertFalse(M_B2(G2,f2(G2)))\n",
        "    self.assertTrue(M_B2(G3,f2(G3)))\n",
        "    self.assertFalse(M_B2(G4,f2(G4)))\n",
        "\n",
        "  def test_M_A2 (self):\n",
        "    self.assertTrue(M_A2(G1))\n",
        "    self.assertFalse(M_A2(G2))\n",
        "    self.assertTrue(M_A2(G3))\n",
        "    self.assertFalse(M_A2(G4))\n",
        "\n",
        "  def test_M_A_F2(self):\n",
        "    self.assertTrue(is_function_invoked(M_A2,M_B2))\n",
        "    self.assertTrue (is_function_invoked(M_A2,f2))\n",
        "\n",
        "unittest.main(argv=[''], defaultTest='Test_Q02', verbosity=2, exit=False)"
      ],
      "metadata": {
        "colab": {
          "base_uri": "https://localhost:8080/"
        },
        "id": "UbJ0q8QVK5d6",
        "outputId": "d839c771-d6e8-44d7-dca9-4e3dfe451c44",
        "cellView": "form"
      },
      "execution_count": null,
      "outputs": [
        {
          "output_type": "stream",
          "name": "stderr",
          "text": [
            "test_M_A2 (__main__.Test_Q02.test_M_A2) ... ok\n",
            "test_M_A_F2 (__main__.Test_Q02.test_M_A_F2) ... ok\n",
            "test_M_B2 (__main__.Test_Q02.test_M_B2) ... ok\n",
            "test_f2 (__main__.Test_Q02.test_f2) ... ok\n",
            "\n",
            "----------------------------------------------------------------------\n",
            "Ran 4 tests in 0.014s\n",
            "\n",
            "OK\n"
          ]
        },
        {
          "output_type": "execute_result",
          "data": {
            "text/plain": [
              "<unittest.main.TestProgram at 0x794804302050>"
            ]
          },
          "metadata": {},
          "execution_count": 13
        }
      ]
    },
    {
      "cell_type": "markdown",
      "source": [
        "## (3)\n",
        "\n",
        "Sejam $A_3$ e $B_3$ os seguintes problemas:\n",
        "\n",
        "$A_3 = \\{ \\langle G \\rangle \\mid G \\text{ é um grafo bipartido} \\}$\n",
        "\n",
        "$B_3 = \\{ \\langle G,c \\rangle \\mid c \\text{ é um ciclo de tamanho ímpar de } G \\}$\n",
        "\n",
        "O problema $A_3$ pode ser resolvido em termos de $B_3$ da seguinte forma: encontramos os ciclos simples $G$. Se $G$ possui algum ciclo ímpar, então $G$ não é bipartido.\n",
        "\n",
        "As seguintes funções devem ser implementadas:\n",
        "\n",
        "\n",
        "\n",
        "* `M_B3` - Implementa um algoritmo para o problema $B_3$.\n",
        "\n",
        "* `f3` - Transforma a entrada de `M_A3` ($G$) em uma entrada para `M_B3` ($G$,$c$).\n",
        "\n",
        "* `M_A3` - Implementa um algoritmo para o problema $A_3$, usando `M_B3` para cada ciclo de $G$.\n",
        "\n",
        "\n",
        "\n",
        "> Dica:  \n",
        "> * Em `f3`, use a função `simple_cycles` de networkx, passando $G$ como parâmetro para encontrar os ciclos simples de $G$.\n",
        "> * Em `M_B3`, teste se $G$ tem algum ciclo $c$ com tamanho ímpar. A função `simple_cycles` retorna uma lista de listas representando cada ciclo como um caminho. Então basta testar se a lista representa um caminho (`nx.is_path`) e se existe uma aresta em $G$ entre o primeiro e o ultimo elemento da lista (`nx.has_edge`), configurando assim que a lista representa um ciclo.\n",
        "\n",
        "\n",
        "\n",
        "\n"
      ],
      "metadata": {
        "id": "R7OzFjIvKL2G"
      }
    },
    {
      "cell_type": "code",
      "source": [
        "import networkx as nx\n",
        "\n",
        "def M_B3 (G: nx.Graph, c) -> bool:\n",
        "  return nx.is_path(G,c) and G.has_edge(c[0],c[-1]) and len(c)%2==1\n",
        "\n",
        "def f3 (G: nx.Graph) -> list:\n",
        "  # Escreva aqui o seu código\n",
        "  # return None\n",
        "  return [c for c in list(nx.simple_cycles(G)) if len(c)%2==1]\n",
        "\n",
        "def M_A3 (G: nx.Graph) -> bool:\n",
        "  # Escreva aqui o seu código\n",
        "  # return None\n",
        "  cycles = f3(G)\n",
        "  for c in cycles:\n",
        "    if M_B3(G,c):\n",
        "      return False\n",
        "  return True\n",
        "\n",
        "# Grafos para teste\n",
        "assert M_A3(nx.Graph([(0, 1), (1, 2), (2, 3), (3, 0)])) is True\n",
        "assert M_A3(nx.Graph([(0, 1), (1, 2), (1, 3), (3, 0), (5, 6), (6, 4)])) is False\n"
      ],
      "metadata": {
        "id": "8m7CnQPUM3WR"
      },
      "execution_count": null,
      "outputs": []
    },
    {
      "cell_type": "code",
      "source": [
        "# @title Testes Automáticos\n",
        "\n",
        "G1 = nx.Graph([(0, 1), (1, 2), (2, 3), (3, 0)])\n",
        "G2 = nx.Graph([(0, 1), (1, 2), (1, 3), (4, 5), (5, 6), (6, 4)])\n",
        "G3 = nx.Graph([(0, 1), (1, 2), (1, 3), (2, 4), (3, 4)])\n",
        "G4 = nx.Graph([(0, 1), (1, 2), (1, 6), (2, 6), (3, 4), (4, 5)])\n",
        "\n",
        "class Test_Q03 (unittest.TestCase):\n",
        "\n",
        "  def test_f3 (self):\n",
        "    cycles1 = f3(G1)\n",
        "    self.assertTrue(all(nx.is_path(G1,c) and G1.has_edge(c[0],c[-1]) for c in cycles1))\n",
        "    cycles2 = f3(G2)\n",
        "    self.assertTrue(all(nx.is_path(G2,c) and G2.has_edge(c[0],c[-1]) for c in cycles2))\n",
        "    cycles3 = f3(G3)\n",
        "    self.assertTrue(all(nx.is_path(G3,c) and G3.has_edge(c[0],c[-1]) for c in cycles3))\n",
        "    cycles4 = f3(G4)\n",
        "    self.assertTrue(all(nx.is_path(G4,c) and G4.has_edge(c[0],c[-1]) for c in cycles4))\n",
        "\n",
        "  def test_M_B3 (self):\n",
        "    self.assertFalse(M_B3(G1,[0,1,2,3]))\n",
        "    self.assertFalse(M_B3(G2,[0,1,2,3]))\n",
        "    self.assertTrue(M_B3(G2,[4,5,6]))\n",
        "\n",
        "  def test_M_A3 (self):\n",
        "    self.assertTrue(M_A3(G1))\n",
        "    self.assertFalse(M_A3(G2))\n",
        "    self.assertTrue(M_A3(G3))\n",
        "    self.assertFalse(M_A3(G4))\n",
        "\n",
        "  def test_M_A_F3(self):\n",
        "    self.assertTrue(is_function_invoked(M_A3,M_B3))\n",
        "    self.assertTrue (is_function_invoked(M_A3,f3))\n",
        "\n",
        "unittest.main(argv=[''], defaultTest='Test_Q03', verbosity=2, exit=False)"
      ],
      "metadata": {
        "colab": {
          "base_uri": "https://localhost:8080/"
        },
        "outputId": "6040f72c-e9b5-4564-a0ec-9de26087042d",
        "id": "-oatGYV_0Pob"
      },
      "execution_count": null,
      "outputs": [
        {
          "output_type": "stream",
          "name": "stderr",
          "text": [
            "test_M_A3 (__main__.Test_Q03.test_M_A3) ... ok\n",
            "test_M_A_F3 (__main__.Test_Q03.test_M_A_F3) ... ok\n",
            "test_M_B3 (__main__.Test_Q03.test_M_B3) ... ok\n",
            "test_f3 (__main__.Test_Q03.test_f3) ... ok\n",
            "\n",
            "----------------------------------------------------------------------\n",
            "Ran 4 tests in 0.012s\n",
            "\n",
            "OK\n"
          ]
        },
        {
          "output_type": "execute_result",
          "data": {
            "text/plain": [
              "<unittest.main.TestProgram at 0x79480431a590>"
            ]
          },
          "metadata": {},
          "execution_count": 16
        }
      ]
    }
  ]
}